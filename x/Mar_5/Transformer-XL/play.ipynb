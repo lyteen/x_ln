{
 "cells": [
  {
   "cell_type": "code",
   "execution_count": null,
   "metadata": {},
   "outputs": [
    {
     "name": "stdout",
     "output_type": "stream",
     "text": [
      "output shape: torch.Size([20, 10, 256])\n",
      "\n",
      "memory shape: torch.Size([20, 10, 256])\n",
      "\n",
      "output shape: torch.Size([40, 10, 256])\n",
      "\n",
      "memory shape: torch.Size([40, 10, 256])\n",
      "\n",
      "output shape: torch.Size([60, 10, 256])\n",
      "\n",
      "torch.Size([60, 10, 256])\n"
     ]
    },
    {
     "name": "stderr",
     "output_type": "stream",
     "text": [
      "c:\\Users\\Mr.chen\\miniconda3\\envs\\dl\\lib\\site-packages\\torch\\nn\\modules\\transformer.py:385: UserWarning: enable_nested_tensor is True, but self.use_nested_tensor is False because encoder_layer.self_attn.batch_first was not True(use batch_first for better inference performance)\n",
      "  warnings.warn(\n"
     ]
    }
   ],
   "source": [
    "# test segment-level recurrence\n",
    "import torch\n",
    "import torch.nn as nn\n",
    "from transformers import TransfoXLTokenizer, TransfoXLPreTrainedModel\n",
    "\n",
    "# mem_len decide the memory size\n",
    "class Transformer_XL(nn.Module):\n",
    "    def __init__(self, channels: int=256, n_layers: int=6, mem_len: int=200):\n",
    "        super().__init__()\n",
    "        self.channels = channels\n",
    "        self.n_layers = n_layers\n",
    "        self.mem_len = mem_len\n",
    "        self.memory = None # save hidden_layer_param\n",
    "\n",
    "        self.encoder = nn.TransformerEncoder(\n",
    "            nn.TransformerEncoderLayer(d_model=channels, nhead=8),\n",
    "            num_layers=n_layers\n",
    "        )\n",
    "\n",
    "    def forward(self, x: torch.Tensor) -> torch.Tensor:\n",
    "        if self.memory is not None:\n",
    "            print(f\"memory shape: {self.memory.shape}\\n\")\n",
    "            x = torch.cat([self.memory, x], dim=0)\n",
    "\n",
    "        output = self.encoder(x)\n",
    "        print(f\"output shape: {output.shape}\\n\")\n",
    "        self.memory = output.detach()[-self.mem_len:].clone() # detach prevent tensor from contributing to the gradient calculations\n",
    "        return output\n",
    "\n",
    "model = Transformer_XL()\n",
    "seq_1 = torch.rand(20, 10, 256)\n",
    "seq_2 = torch.rand(20, 10, 256)\n",
    "seq_3 = torch.rand(20, 10, 256)\n",
    "input_seq = [seq_1, seq_2, seq_3]\n",
    "for seq in input_seq:\n",
    "    output = model(seq)\n",
    "\n",
    "print(output.shape)"
   ]
  }
 ],
 "metadata": {
  "kernelspec": {
   "display_name": "dl",
   "language": "python",
   "name": "python3"
  },
  "language_info": {
   "codemirror_mode": {
    "name": "ipython",
    "version": 3
   },
   "file_extension": ".py",
   "mimetype": "text/x-python",
   "name": "python",
   "nbconvert_exporter": "python",
   "pygments_lexer": "ipython3",
   "version": "3.10.16"
  }
 },
 "nbformat": 4,
 "nbformat_minor": 2
}
